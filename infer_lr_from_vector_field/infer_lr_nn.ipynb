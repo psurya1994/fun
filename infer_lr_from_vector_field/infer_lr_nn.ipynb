{
 "cells": [
  {
   "cell_type": "markdown",
   "metadata": {},
   "source": [
    "## Estimating learning rule from converged minima\n",
    "\n",
    "Research question: Can we predict which learning rules the network uses by just seeing the minima it reaches for various parameters initialization of the neural network?\n",
    "\n",
    "Methodology:\n",
    "- Creating the dataset:\n",
    "\t- Train 50 networks with the `SGD(lr=0.005, momentum=0.9)` learning rule and 50 with `Adam(lr=0.005)`. Train them for one epoch on MNIST. The network architecture is 784 -> 500 -> 10.\n",
    "\t- Extract the following properties for the first layer weights at convergence: principle components to reach 40% of explained variance, mean, norm, skew, std, kurtosis. This is our dataset use in the next step.\n",
    "- Train classifiers:\n",
    "\t- Split the dataset into training and testing sets. \n",
    "\t- Use train sets to train various classifiers to find which learning rule was used (2 class classification problem).\n",
    "\t- **Result:** We observed that we can seperate these networks with 100% accuracy.\n",
    "- Visualize properties while training:\n",
    "\t- We plot how each of the properties change as the network gets trained for both learning rules.\n",
    "\t- **Finding:**: Even though all of them start at a similar point, the evolution of dynamics is very different for SGD with momentum versus Adam. Hence, it seems like there could be a lot of information about the learning rules that can be extracted from these simple properties.\n",
    "\n",
    "Reference MNIST code: https://github.com/pytorch/examples/blob/master/mnist/main.py"
   ]
  },
  {
   "cell_type": "code",
   "execution_count": 1,
   "metadata": {},
   "outputs": [],
   "source": [
    "import torch\n",
    "import torch.nn as nn\n",
    "import torch.nn.functional as F\n",
    "import torchvision.datasets as dsets\n",
    "import torchvision.transforms as transforms\n",
    "from torch.autograd import Variable\n",
    "import torch.optim as optim\n",
    "import numpy as np\n",
    "from tqdm import tqdm as tqdm\n",
    "import matplotlib.pyplot as plt\n",
    "\n",
    "from scipy import stats\n",
    "from sklearn.decomposition import PCA"
   ]
  },
  {
   "cell_type": "markdown",
   "metadata": {},
   "source": [
    "### Setting up network training"
   ]
  },
  {
   "cell_type": "code",
   "execution_count": 2,
   "metadata": {},
   "outputs": [],
   "source": [
    "input_size = 784 # img_size = (28,28) ---> 28*28=784 in total\n",
    "hidden_size = 500 # number of nodes at hidden layer\n",
    "num_classes = 10 # number of output classes discrete range [0,9]\n",
    "num_epochs = 1 # number of times which the entire dataset is passed throughout the model\n",
    "batch_size = 64  # the size of input data took for one iteration\n",
    "lr = 5e-3 # size of step\n",
    "use_cuda = torch.cuda.is_available()\n",
    "device = torch.device(\"cuda\" if use_cuda else \"cpu\")"
   ]
  },
  {
   "cell_type": "code",
   "execution_count": 3,
   "metadata": {},
   "outputs": [],
   "source": [
    "train_data = dsets.MNIST(root = './data', train = True,\n",
    "                        transform = transforms.ToTensor(), download = True)\n",
    "\n",
    "test_data = dsets.MNIST(root = './data', train = False,\n",
    "                       transform = transforms.ToTensor())"
   ]
  },
  {
   "cell_type": "code",
   "execution_count": 4,
   "metadata": {},
   "outputs": [],
   "source": [
    "train_gen = torch.utils.data.DataLoader(dataset = train_data,\n",
    "                                             batch_size = batch_size,\n",
    "                                             shuffle = True)\n",
    "\n",
    "test_gen = torch.utils.data.DataLoader(dataset = test_data,\n",
    "                                      batch_size = batch_size, \n",
    "                                      shuffle = False)"
   ]
  },
  {
   "cell_type": "code",
   "execution_count": 5,
   "metadata": {},
   "outputs": [],
   "source": [
    "class Net(nn.Module):\n",
    "    def __init__(self, input_size, hidden_size, num_classes):\n",
    "        super(Net,self).__init__()\n",
    "        self.fc1 = nn.Linear(input_size, hidden_size)\n",
    "        self.relu = nn.ReLU()\n",
    "        self.fc2 = nn.Linear(hidden_size, num_classes)\n",
    "  \n",
    "    def forward(self,x):\n",
    "        out = self.fc1(x)\n",
    "        out = self.relu(out)\n",
    "        out = self.fc2(out)\n",
    "        return out"
   ]
  },
  {
   "cell_type": "code",
   "execution_count": 6,
   "metadata": {},
   "outputs": [],
   "source": [
    "def train(model, device, train_loader, optimizer, epoch, log_interval=100):\n",
    "    model.train()\n",
    "    for batch_idx, (data, target) in enumerate(train_loader):\n",
    "        data, target = data.to(device).view(-1,28*28), target.to(device)\n",
    "        optimizer.zero_grad()\n",
    "        output = model(data)\n",
    "        loss = loss_function(output, target)\n",
    "        loss.backward()\n",
    "        optimizer.step()\n",
    "        if batch_idx % log_interval == 0:\n",
    "            print('Train Epoch: {} [{}/{} ({:.0f}%)]\\tLoss: {:.6f}'.format(\n",
    "                epoch, batch_idx * len(data), len(train_loader.dataset),\n",
    "                100. * batch_idx / len(train_loader), loss.item()))\n",
    "            "
   ]
  },
  {
   "cell_type": "code",
   "execution_count": 7,
   "metadata": {},
   "outputs": [],
   "source": [
    "def test(model, device, test_loader):\n",
    "    model.eval()\n",
    "    test_loss = 0\n",
    "    correct = 0\n",
    "    with torch.no_grad():\n",
    "        for data, target in test_loader:\n",
    "            data, target = data.to(device).view(-1,28*28), target.to(device)\n",
    "            output = model(data)\n",
    "            test_loss += F.nll_loss(output, target, reduction='sum').item()  # sum up batch loss\n",
    "            pred = output.argmax(dim=1, keepdim=True)  # get the index of the max log-probability\n",
    "            correct += pred.eq(target.view_as(pred)).sum().item()\n",
    "\n",
    "    test_loss /= len(test_loader.dataset)\n",
    "\n",
    "    print('\\nTest set: Average loss: {:.4f}, Accuracy: {}/{} ({:.0f}%)\\n'.format(\n",
    "        test_loss, correct, len(test_loader.dataset),\n",
    "        100. * correct / len(test_loader.dataset)))\n",
    "    return 100. * correct / len(test_loader.dataset)"
   ]
  },
  {
   "cell_type": "code",
   "execution_count": 8,
   "metadata": {},
   "outputs": [],
   "source": [
    "loss_function = nn.CrossEntropyLoss()"
   ]
  },
  {
   "cell_type": "markdown",
   "metadata": {},
   "source": [
    "### Creating the dataset"
   ]
  },
  {
   "cell_type": "code",
   "execution_count": null,
   "metadata": {},
   "outputs": [],
   "source": [
    "features_mat = []\n",
    "for i in tqdm(range(100)):\n",
    "    features = {}\n",
    "    net = Net(input_size, hidden_size, num_classes).to(device)\n",
    "    if(i%2 == 0):\n",
    "        optimizer = optim.SGD(net.parameters(), lr=lr, momentum=0.9)\n",
    "        features['label'] = 'SGD(5e-3,0.9)'\n",
    "    else:\n",
    "        optimizer = optim.Adam(net.parameters(), lr=lr)\n",
    "        features['label'] = 'Adam(5e-3)'\n",
    "    train(net, device, train_gen, optimizer, 1)\n",
    "    test_accuracy = test(net, device, test_gen)\n",
    "    train_accuracy = test(net, device, train_gen)\n",
    "    weights = dict(net.named_parameters())['fc1.weight'].detach().cpu().numpy()\n",
    "\n",
    "\n",
    "    pca = PCA(n_components=100)\n",
    "    pca.fit(weights)\n",
    "\n",
    "    features['PCA_evr'] = pca.explained_variance_ratio_\n",
    "    weights = weights.flatten()\n",
    "    features['mean'] = np.mean(weights)\n",
    "    features['std']= np.std(weights)\n",
    "    features['kurtosis'] = stats.kurtosis(weights)\n",
    "    features['skew'] = stats.skew(weights)\n",
    "    features['norm'] = np.linalg.norm(weights.flatten())\n",
    "    features['train_acc'] = train_accuracy\n",
    "    features['test_acc'] = test_accuracy\n",
    "    \n",
    "    features_mat.append(features)"
   ]
  },
  {
   "cell_type": "markdown",
   "metadata": {},
   "source": [
    "### Doing classification on the dataset"
   ]
  },
  {
   "cell_type": "code",
   "execution_count": 86,
   "metadata": {},
   "outputs": [],
   "source": [
    "import pickle\n",
    "# pickle.dump( features_mat, open( \"data/features_mat.p\", \"wb\" ) )\n",
    "features_mat = pickle.load( open( \"data/features_mat.p\", \"rb\" ) )"
   ]
  },
  {
   "cell_type": "code",
   "execution_count": 107,
   "metadata": {},
   "outputs": [],
   "source": [
    "import pandas as pd"
   ]
  },
  {
   "cell_type": "code",
   "execution_count": 108,
   "metadata": {},
   "outputs": [],
   "source": [
    "df = pd.DataFrame(features_mat)"
   ]
  },
  {
   "cell_type": "code",
   "execution_count": 109,
   "metadata": {},
   "outputs": [],
   "source": [
    "df['label'] = pd.factorize(df['label'])[0]"
   ]
  },
  {
   "cell_type": "code",
   "execution_count": 110,
   "metadata": {},
   "outputs": [],
   "source": [
    "df['PCA_evr'] = df['PCA_evr'].transform(lambda k: np.where(np.cumsum(k)>0.4)[0][0])"
   ]
  },
  {
   "cell_type": "code",
   "execution_count": 111,
   "metadata": {},
   "outputs": [
    {
     "data": {
      "text/html": [
       "<div>\n",
       "<style scoped>\n",
       "    .dataframe tbody tr th:only-of-type {\n",
       "        vertical-align: middle;\n",
       "    }\n",
       "\n",
       "    .dataframe tbody tr th {\n",
       "        vertical-align: top;\n",
       "    }\n",
       "\n",
       "    .dataframe thead th {\n",
       "        text-align: right;\n",
       "    }\n",
       "</style>\n",
       "<table border=\"1\" class=\"dataframe\">\n",
       "  <thead>\n",
       "    <tr style=\"text-align: right;\">\n",
       "      <th></th>\n",
       "      <th>PCA_evr</th>\n",
       "      <th>kurtosis</th>\n",
       "      <th>label</th>\n",
       "      <th>mean</th>\n",
       "      <th>norm</th>\n",
       "      <th>skew</th>\n",
       "      <th>std</th>\n",
       "      <th>test_acc</th>\n",
       "      <th>train_acc</th>\n",
       "    </tr>\n",
       "  </thead>\n",
       "  <tbody>\n",
       "    <tr>\n",
       "      <th>0</th>\n",
       "      <td>68</td>\n",
       "      <td>-0.855425</td>\n",
       "      <td>0</td>\n",
       "      <td>0.001133</td>\n",
       "      <td>13.766787</td>\n",
       "      <td>0.046861</td>\n",
       "      <td>0.021959</td>\n",
       "      <td>91.61</td>\n",
       "      <td>90.968333</td>\n",
       "    </tr>\n",
       "    <tr>\n",
       "      <th>1</th>\n",
       "      <td>8</td>\n",
       "      <td>2.775276</td>\n",
       "      <td>1</td>\n",
       "      <td>-0.015621</td>\n",
       "      <td>66.120155</td>\n",
       "      <td>-0.346362</td>\n",
       "      <td>0.104445</td>\n",
       "      <td>96.51</td>\n",
       "      <td>96.930000</td>\n",
       "    </tr>\n",
       "    <tr>\n",
       "      <th>2</th>\n",
       "      <td>66</td>\n",
       "      <td>-0.851318</td>\n",
       "      <td>0</td>\n",
       "      <td>0.001073</td>\n",
       "      <td>13.757090</td>\n",
       "      <td>0.047172</td>\n",
       "      <td>0.021946</td>\n",
       "      <td>91.48</td>\n",
       "      <td>91.033333</td>\n",
       "    </tr>\n",
       "    <tr>\n",
       "      <th>3</th>\n",
       "      <td>8</td>\n",
       "      <td>2.767767</td>\n",
       "      <td>1</td>\n",
       "      <td>-0.015344</td>\n",
       "      <td>65.542664</td>\n",
       "      <td>-0.309255</td>\n",
       "      <td>0.103554</td>\n",
       "      <td>96.24</td>\n",
       "      <td>96.955000</td>\n",
       "    </tr>\n",
       "    <tr>\n",
       "      <th>4</th>\n",
       "      <td>67</td>\n",
       "      <td>-0.855538</td>\n",
       "      <td>0</td>\n",
       "      <td>0.001092</td>\n",
       "      <td>13.759649</td>\n",
       "      <td>0.052242</td>\n",
       "      <td>0.021950</td>\n",
       "      <td>91.39</td>\n",
       "      <td>91.040000</td>\n",
       "    </tr>\n",
       "  </tbody>\n",
       "</table>\n",
       "</div>"
      ],
      "text/plain": [
       "   PCA_evr  kurtosis  label      mean       norm      skew       std  \\\n",
       "0       68 -0.855425      0  0.001133  13.766787  0.046861  0.021959   \n",
       "1        8  2.775276      1 -0.015621  66.120155 -0.346362  0.104445   \n",
       "2       66 -0.851318      0  0.001073  13.757090  0.047172  0.021946   \n",
       "3        8  2.767767      1 -0.015344  65.542664 -0.309255  0.103554   \n",
       "4       67 -0.855538      0  0.001092  13.759649  0.052242  0.021950   \n",
       "\n",
       "   test_acc  train_acc  \n",
       "0     91.61  90.968333  \n",
       "1     96.51  96.930000  \n",
       "2     91.48  91.033333  \n",
       "3     96.24  96.955000  \n",
       "4     91.39  91.040000  "
      ]
     },
     "execution_count": 111,
     "metadata": {},
     "output_type": "execute_result"
    }
   ],
   "source": [
    "df.head()"
   ]
  },
  {
   "cell_type": "code",
   "execution_count": 112,
   "metadata": {},
   "outputs": [
    {
     "data": {
      "text/html": [
       "<div>\n",
       "<style scoped>\n",
       "    .dataframe tbody tr th:only-of-type {\n",
       "        vertical-align: middle;\n",
       "    }\n",
       "\n",
       "    .dataframe tbody tr th {\n",
       "        vertical-align: top;\n",
       "    }\n",
       "\n",
       "    .dataframe thead th {\n",
       "        text-align: right;\n",
       "    }\n",
       "</style>\n",
       "<table border=\"1\" class=\"dataframe\">\n",
       "  <thead>\n",
       "    <tr style=\"text-align: right;\">\n",
       "      <th></th>\n",
       "      <th>kurtosis</th>\n",
       "      <th>mean</th>\n",
       "      <th>norm</th>\n",
       "      <th>skew</th>\n",
       "      <th>std</th>\n",
       "    </tr>\n",
       "  </thead>\n",
       "  <tbody>\n",
       "    <tr>\n",
       "      <th>0</th>\n",
       "      <td>-0.855425</td>\n",
       "      <td>0.001133</td>\n",
       "      <td>13.766787</td>\n",
       "      <td>0.046861</td>\n",
       "      <td>0.021959</td>\n",
       "    </tr>\n",
       "    <tr>\n",
       "      <th>1</th>\n",
       "      <td>2.775276</td>\n",
       "      <td>-0.015621</td>\n",
       "      <td>66.120155</td>\n",
       "      <td>-0.346362</td>\n",
       "      <td>0.104445</td>\n",
       "    </tr>\n",
       "    <tr>\n",
       "      <th>2</th>\n",
       "      <td>-0.851318</td>\n",
       "      <td>0.001073</td>\n",
       "      <td>13.757090</td>\n",
       "      <td>0.047172</td>\n",
       "      <td>0.021946</td>\n",
       "    </tr>\n",
       "    <tr>\n",
       "      <th>3</th>\n",
       "      <td>2.767767</td>\n",
       "      <td>-0.015344</td>\n",
       "      <td>65.542664</td>\n",
       "      <td>-0.309255</td>\n",
       "      <td>0.103554</td>\n",
       "    </tr>\n",
       "    <tr>\n",
       "      <th>4</th>\n",
       "      <td>-0.855538</td>\n",
       "      <td>0.001092</td>\n",
       "      <td>13.759649</td>\n",
       "      <td>0.052242</td>\n",
       "      <td>0.021950</td>\n",
       "    </tr>\n",
       "  </tbody>\n",
       "</table>\n",
       "</div>"
      ],
      "text/plain": [
       "   kurtosis      mean       norm      skew       std\n",
       "0 -0.855425  0.001133  13.766787  0.046861  0.021959\n",
       "1  2.775276 -0.015621  66.120155 -0.346362  0.104445\n",
       "2 -0.851318  0.001073  13.757090  0.047172  0.021946\n",
       "3  2.767767 -0.015344  65.542664 -0.309255  0.103554\n",
       "4 -0.855538  0.001092  13.759649  0.052242  0.021950"
      ]
     },
     "execution_count": 112,
     "metadata": {},
     "output_type": "execute_result"
    }
   ],
   "source": [
    "y = df['label'].to_numpy()\n",
    "df = df.drop(['label', 'PCA_evr','test_acc','train_acc'],axis=1)\n",
    "df.head()"
   ]
  },
  {
   "cell_type": "code",
   "execution_count": 113,
   "metadata": {},
   "outputs": [],
   "source": [
    "X = df.to_numpy()\n",
    "from sklearn.model_selection import train_test_split as tts\n",
    "X_train, X_test, y_train, y_test = tts(X, y, test_size=0.33, random_state=42)"
   ]
  },
  {
   "cell_type": "code",
   "execution_count": 94,
   "metadata": {},
   "outputs": [
    {
     "name": "stderr",
     "output_type": "stream",
     "text": [
      "/home/mila/p/penmetss/.conda/envs/conda_env/lib/python3.6/site-packages/sklearn/svm/_base.py:977: ConvergenceWarning: Liblinear failed to converge, increase the number of iterations.\n",
      "  \"the number of iterations.\", ConvergenceWarning)\n"
     ]
    },
    {
     "data": {
      "text/plain": [
       "1.0"
      ]
     },
     "execution_count": 94,
     "metadata": {},
     "output_type": "execute_result"
    }
   ],
   "source": [
    "from sklearn import svm\n",
    "SVM = svm.LinearSVC()\n",
    "SVM.fit(X_train, y_train)\n",
    "SVM.predict(X_test)\n",
    "round(SVM.score(X_test,y_test), 4)"
   ]
  },
  {
   "cell_type": "code",
   "execution_count": 95,
   "metadata": {},
   "outputs": [
    {
     "data": {
      "text/plain": [
       "1.0"
      ]
     },
     "execution_count": 95,
     "metadata": {},
     "output_type": "execute_result"
    }
   ],
   "source": [
    "import sklearn as sk\n",
    "from sklearn.ensemble import RandomForestClassifier\n",
    "\n",
    "RF = RandomForestClassifier(n_estimators=100, max_depth=2, random_state=0)\n",
    "RF.fit(X_train, y_train)\n",
    "RF.predict(X_test)\n",
    "round(RF.score(X,y), 4)"
   ]
  },
  {
   "cell_type": "code",
   "execution_count": 84,
   "metadata": {},
   "outputs": [
    {
     "data": {
      "text/plain": [
       "array([0.1 , 0.13, 0.22, 0.18, 0.14, 0.12, 0.11])"
      ]
     },
     "execution_count": 84,
     "metadata": {},
     "output_type": "execute_result"
    }
   ],
   "source": [
    "RF.feature_importances_"
   ]
  },
  {
   "cell_type": "markdown",
   "metadata": {},
   "source": [
    "Observations:\n",
    "- It seems like a lot of information is encoded in just these simple properties because we're able to classify perfectly. Next, let's visualize how these parameters change over time as the network evolves.    "
   ]
  },
  {
   "cell_type": "markdown",
   "metadata": {},
   "source": [
    "### Visualizing various values as training progresses"
   ]
  },
  {
   "cell_type": "code",
   "execution_count": 141,
   "metadata": {},
   "outputs": [
    {
     "name": "stdout",
     "output_type": "stream",
     "text": [
      "Train Epoch: 1 [57600/60000 (96%)]\tLoss: 0.415731\r"
     ]
    }
   ],
   "source": [
    "net = Net(input_size, hidden_size, num_classes).to(device)\n",
    "optimizer = optim.SGD(net.parameters(), lr=lr, momentum=0.9)\n",
    "# optimizer = optim.Adam(net.parameters(), lr=lr)\n",
    "\n",
    "net.train()\n",
    "property_vec = []\n",
    "for batch_idx, (data, target) in enumerate(train_gen):\n",
    "    data, target = data.to(device).view(-1,28*28), target.to(device)\n",
    "    optimizer.zero_grad()\n",
    "    output = net(data)\n",
    "    loss = loss_function(output, target)\n",
    "    loss.backward()\n",
    "    optimizer.step()\n",
    "    if batch_idx % 50 == 0:\n",
    "        weights = dict(net.named_parameters())['fc1.weight'].detach().cpu().numpy()\n",
    "        pca = PCA(n_components=10)\n",
    "        pca.fit(weights)\n",
    "        properties = []\n",
    "        properties.append(np.sum(pca.explained_variance_ratio_))\n",
    "        weights = weights.flatten()\n",
    "        properties.extend([np.mean(weights),np.std(weights),stats.kurtosis(weights),\\\n",
    "                           stats.skew(weights), np.linalg.norm(weights.flatten())])\n",
    "        property_vec.append(properties)\n",
    "        print('Train Epoch: {} [{}/{} ({:.0f}%)]\\tLoss: {:.6f}'.format(\n",
    "            1, batch_idx * len(data), len(train_gen.dataset),\n",
    "            100. * batch_idx / len(train_gen), loss.item()), end='\\r')"
   ]
  },
  {
   "cell_type": "code",
   "execution_count": 142,
   "metadata": {},
   "outputs": [
    {
     "data": {
      "text/plain": [
       "<matplotlib.legend.Legend at 0x7f9e42ceecf8>"
      ]
     },
     "execution_count": 142,
     "metadata": {},
     "output_type": "execute_result"
    },
    {
     "data": {
      "image/png": "[encoded data removed]",
      "text/plain": [
       "<Figure size 432x288 with 1 Axes>"
      ]
     },
     "metadata": {
      "needs_background": "light"
     },
     "output_type": "display_data"
    }
   ],
   "source": [
    "plt.plot(np.array(property_vec)[:,:-1], '.-')\n",
    "plt.title('SGD')\n",
    "plt.legend(['PCA_10comp','mean','std','kurtosis','skew'])"
   ]
  },
  {
   "cell_type": "code",
   "execution_count": 140,
   "metadata": {},
   "outputs": [
    {
     "data": {
      "text/plain": [
       "<matplotlib.legend.Legend at 0x7f9e43ae3fd0>"
      ]
     },
     "execution_count": 140,
     "metadata": {},
     "output_type": "execute_result"
    },
    {
     "data": {
      "image/png": "[encoded data removed]",
      "text/plain": [
       "<Figure size 432x288 with 1 Axes>"
      ]
     },
     "metadata": {
      "needs_background": "light"
     },
     "output_type": "display_data"
    }
   ],
   "source": [
    "plt.plot(np.array(property_vec)[:,:-1], '.-')\n",
    "plt.title('Adam')\n",
    "plt.legend(['PCA_10comp','mean','std','kurtosis','skew'])"
   ]
  },
  {
   "cell_type": "markdown",
   "metadata": {},
   "source": [
    "Observations and thoughts:\n",
    "- Even though all of them start at a similar point, the evolution of dynamics is very different for SGD with momentum versus Adam. Hence, it seems like there could be a lot of information about the learning rules that can be extracted from these simple properties.\n",
    "- However, the tests here are quite limited: we tried only one dataset with one learning rate and only two algorithms. It will be interesting to expand this future and check if the dynamics continue to be use as different."
   ]
  },
  {
   "cell_type": "code",
   "execution_count": null,
   "metadata": {},
   "outputs": [],
   "source": []
  }
 ],
 "metadata": {
  "kernelspec": {
   "display_name": "Python 3 (conda_env)",
   "language": "python",
   "name": "conda_env"
  },
  "language_info": {
   "codemirror_mode": {
    "name": "ipython",
    "version": 3
   },
   "file_extension": ".py",
   "mimetype": "text/x-python",
   "name": "python",
   "nbconvert_exporter": "python",
   "pygments_lexer": "ipython3",
   "version": "3.6.10"
  }
 },
 "nbformat": 4,
 "nbformat_minor": 4
}
