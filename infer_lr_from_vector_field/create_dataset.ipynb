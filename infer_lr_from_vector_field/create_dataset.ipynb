{
 "cells": [
  {
   "cell_type": "code",
   "execution_count": 21,
   "metadata": {},
   "outputs": [],
   "source": [
    "import torch\n",
    "import torch.nn as nn\n",
    "import torchvision.datasets as dsets\n",
    "import torchvision.transforms as transforms\n",
    "from torch.autograd import Variable\n",
    "import numpy as np\n",
    "from tqdm.notebook import tqdm as tqdm\n",
    "import matplotlib.pyplot as plt"
   ]
  },
  {
   "cell_type": "code",
   "execution_count": 22,
   "metadata": {},
   "outputs": [],
   "source": [
    "input_size = 784 # img_size = (28,28) ---> 28*28=784 in total\n",
    "hidden_size = 500 # number of nodes at hidden layer\n",
    "num_classes = 10 # number of output classes discrete range [0,9]\n",
    "num_epochs = 3 # number of times which the entire dataset is passed throughout the model\n",
    "batch_size = 64  # the size of input data took for one iteration\n",
    "lr = 5e-3 # size of step"
   ]
  },
  {
   "cell_type": "code",
   "execution_count": 23,
   "metadata": {},
   "outputs": [],
   "source": [
    "train_data = dsets.MNIST(root = './data', train = True,\n",
    "                        transform = transforms.ToTensor(), download = True)\n",
    "\n",
    "test_data = dsets.MNIST(root = './data', train = False,\n",
    "                       transform = transforms.ToTensor())"
   ]
  },
  {
   "cell_type": "code",
   "execution_count": 24,
   "metadata": {},
   "outputs": [],
   "source": [
    "train_gen = torch.utils.data.DataLoader(dataset = train_data,\n",
    "                                             batch_size = batch_size,\n",
    "                                             shuffle = True)\n",
    "\n",
    "test_gen = torch.utils.data.DataLoader(dataset = test_data,\n",
    "                                      batch_size = batch_size, \n",
    "                                      shuffle = False)"
   ]
  },
  {
   "cell_type": "code",
   "execution_count": 25,
   "metadata": {},
   "outputs": [],
   "source": [
    "class Net(nn.Module):\n",
    "  def __init__(self, input_size, hidden_size, num_classes):\n",
    "    super(Net,self).__init__()\n",
    "    self.fc1 = nn.Linear(input_size, hidden_size)\n",
    "    self.relu = nn.ReLU()\n",
    "    self.fc2 = nn.Linear(hidden_size, num_classes)\n",
    "  \n",
    "  def forward(self,x):\n",
    "    out = self.fc1(x)\n",
    "    out = self.relu(out)\n",
    "    out = self.fc2(out)\n",
    "    return out"
   ]
  },
  {
   "cell_type": "code",
   "execution_count": 26,
   "metadata": {},
   "outputs": [],
   "source": [
    "net = Net(input_size, hidden_size, num_classes)"
   ]
  },
  {
   "cell_type": "code",
   "execution_count": 27,
   "metadata": {},
   "outputs": [],
   "source": [
    "loss_function = nn.CrossEntropyLoss()\n",
    "optimizer = torch.optim.Adam( net.parameters(), lr=lr)"
   ]
  },
  {
   "cell_type": "code",
   "execution_count": 28,
   "metadata": {},
   "outputs": [
    {
     "name": "stdout",
     "output_type": "stream",
     "text": [
      "Epoch [1/3], Step [100/937], Loss: 0.8648\n",
      "Epoch [1/3], Step [200/937], Loss: 0.0988\n",
      "Epoch [1/3], Step [300/937], Loss: 0.1235\n",
      "Epoch [1/3], Step [400/937], Loss: 0.2097\n",
      "Epoch [1/3], Step [500/937], Loss: 0.2690\n",
      "Epoch [1/3], Step [600/937], Loss: 0.0646\n",
      "Epoch [1/3], Step [700/937], Loss: 0.0333\n",
      "Epoch [1/3], Step [800/937], Loss: 0.1393\n",
      "Epoch [1/3], Step [900/937], Loss: 0.0946\n",
      "Epoch [2/3], Step [100/937], Loss: 0.1629\n",
      "Epoch [2/3], Step [200/937], Loss: 0.1339\n",
      "Epoch [2/3], Step [300/937], Loss: 0.0829\n",
      "Epoch [2/3], Step [400/937], Loss: 0.0610\n",
      "Epoch [2/3], Step [500/937], Loss: 0.0774\n",
      "Epoch [2/3], Step [600/937], Loss: 0.0384\n",
      "Epoch [2/3], Step [700/937], Loss: 0.0459\n",
      "Epoch [2/3], Step [800/937], Loss: 0.3028\n",
      "Epoch [2/3], Step [900/937], Loss: 0.0227\n",
      "Epoch [3/3], Step [100/937], Loss: 0.0593\n",
      "Epoch [3/3], Step [200/937], Loss: 0.0337\n",
      "Epoch [3/3], Step [300/937], Loss: 0.0089\n",
      "Epoch [3/3], Step [400/937], Loss: 0.0091\n",
      "Epoch [3/3], Step [500/937], Loss: 0.0845\n",
      "Epoch [3/3], Step [600/937], Loss: 0.1770\n",
      "Epoch [3/3], Step [700/937], Loss: 0.0150\n",
      "Epoch [3/3], Step [800/937], Loss: 0.0759\n",
      "Epoch [3/3], Step [900/937], Loss: 0.1293\n"
     ]
    }
   ],
   "source": [
    "for epoch in range(num_epochs):\n",
    "  for i ,(images,labels) in enumerate(train_gen):\n",
    "    images = Variable(images.view(-1,28*28))\n",
    "    labels = Variable(labels)\n",
    "    \n",
    "    optimizer.zero_grad()\n",
    "    outputs = net(images)\n",
    "    loss = loss_function(outputs, labels)\n",
    "    loss.backward()\n",
    "    optimizer.step()\n",
    "    \n",
    "    if (i+1) % 100 == 0:\n",
    "      print('Epoch [%d/%d], Step [%d/%d], Loss: %.4f'\n",
    "                 %(epoch+1, num_epochs, i+1, len(train_data)//batch_size, loss.item()))"
   ]
  },
  {
   "cell_type": "code",
   "execution_count": 29,
   "metadata": {},
   "outputs": [
    {
     "name": "stdout",
     "output_type": "stream",
     "text": [
      "Train accuracy of the model: 98.297 %\n",
      "tensor(58979) 60000\n",
      "Test accuracy of the model: 97.170 %\n",
      "tensor(9718) 10000\n"
     ]
    }
   ],
   "source": [
    "correct = 0\n",
    "total = 0\n",
    "\n",
    "for images,labels in train_gen:\n",
    "  images = images.view(-1,28*28)\n",
    "  labels = labels\n",
    "  \n",
    "  output = net(images)\n",
    "  _, predicted = torch.max(output,1)\n",
    "  correct += (predicted == labels).sum()\n",
    "  total += labels.size(0)\n",
    "train_acc = (100*correct.numpy())/(total+1)\n",
    "print('Train accuracy of the model: %.3f %%' %(train_acc))\n",
    "print(correct, total)\n",
    "\n",
    "correct = 0\n",
    "total = 0\n",
    "for images,labels in test_gen:\n",
    "  images = images.view(-1,28*28)\n",
    "  labels = labels\n",
    "  \n",
    "  output = net(images)\n",
    "  _, predicted = torch.max(output,1)\n",
    "  correct += (predicted == labels).sum()\n",
    "  total += labels.size(0)\n",
    "test_acc = (100*correct.numpy())/(total+1)\n",
    "print('Test accuracy of the model: %.3f %%' %(test_acc))\n",
    "print(correct, total)"
   ]
  },
  {
   "cell_type": "code",
   "execution_count": null,
   "metadata": {},
   "outputs": [],
   "source": []
  },
  {
   "cell_type": "code",
   "execution_count": null,
   "metadata": {},
   "outputs": [],
   "source": []
  },
  {
   "cell_type": "code",
   "execution_count": null,
   "metadata": {},
   "outputs": [],
   "source": []
  }
 ],
 "metadata": {
  "kernelspec": {
   "display_name": "Python 3",
   "language": "python",
   "name": "python3"
  },
  "language_info": {
   "codemirror_mode": {
    "name": "ipython",
    "version": 3
   },
   "file_extension": ".py",
   "mimetype": "text/x-python",
   "name": "python",
   "nbconvert_exporter": "python",
   "pygments_lexer": "ipython3",
   "version": "3.6.5"
  }
 },
 "nbformat": 4,
 "nbformat_minor": 2
}
